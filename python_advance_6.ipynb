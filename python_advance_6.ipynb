{
 "cells": [
  {
   "cell_type": "code",
   "execution_count": 1,
   "metadata": {},
   "outputs": [],
   "source": [
    "def find_the_difference(string1,string2):\n",
    "    for i in string1:\n",
    "        string2 = string2.replace(i, \"\")\n",
    "    return string2"
   ]
  },
  {
   "cell_type": "code",
   "execution_count": 2,
   "metadata": {},
   "outputs": [
    {
     "data": {
      "text/plain": [
       "'e'"
      ]
     },
     "execution_count": 2,
     "metadata": {},
     "output_type": "execute_result"
    }
   ],
   "source": [
    "find_the_difference(\"abcd\", \"abcde\") "
   ]
  },
  {
   "cell_type": "code",
   "execution_count": 3,
   "metadata": {},
   "outputs": [
    {
     "name": "stdout",
     "output_type": "stream",
     "text": [
      "[<class 'str'>, <class 'str'>, <class 'str'>, <class 'str'>]\n"
     ]
    }
   ],
   "source": [
    "l = ['sat', 'bat', 'cat', 'mat']\n",
    "  \n",
    "# map() can listify the list of strings individually\n",
    "test = list(map(type, l))\n",
    "print(test)"
   ]
  },
  {
   "cell_type": "code",
   "execution_count": 30,
   "metadata": {},
   "outputs": [],
   "source": [
    "#2a)\n",
    "from collections import Counter\n",
    "\n",
    "def count_datatypes(*args):\n",
    "    l = list(map(type, args))\n",
    "    C = Counter(l)\n",
    "    k = [int, str, bool, list, tuple, dict]\n",
    "    p = []\n",
    "    for keys in k:\n",
    "        if keys in C.keys():  \n",
    "            p.append(C[keys])\n",
    "        else:\n",
    "            p.append(0) \n",
    "    return p        "
   ]
  },
  {
   "cell_type": "code",
   "execution_count": 31,
   "metadata": {},
   "outputs": [],
   "source": [
    "l = count_datatypes(1, 45, \"Hi\", False)"
   ]
  },
  {
   "cell_type": "code",
   "execution_count": 32,
   "metadata": {},
   "outputs": [
    {
     "data": {
      "text/plain": [
       "[2, 1, 1, 0, 0, 0]"
      ]
     },
     "execution_count": 32,
     "metadata": {},
     "output_type": "execute_result"
    }
   ],
   "source": [
    "l"
   ]
  },
  {
   "cell_type": "code",
   "execution_count": 41,
   "metadata": {},
   "outputs": [],
   "source": [
    "#3a)\n",
    "def fib_str(x, mylist):\n",
    "    a, b = mylist[0],mylist[1]\n",
    "    count = 0\n",
    "    while(count < x):\n",
    "        print(a)\n",
    "        c = a + b\n",
    "        a=b\n",
    "        b = c\n",
    "        count +=1"
   ]
  },
  {
   "cell_type": "code",
   "execution_count": 42,
   "metadata": {},
   "outputs": [
    {
     "name": "stdout",
     "output_type": "stream",
     "text": [
      "j\n",
      "h\n",
      "jh\n"
     ]
    }
   ],
   "source": [
    "fib_str(3, [\"j\", \"h\"]) "
   ]
  },
  {
   "cell_type": "code",
   "execution_count": 56,
   "metadata": {},
   "outputs": [],
   "source": [
    "#4a)\n",
    "def ones_threes_nines(n):\n",
    "    nines = 0\n",
    "    threes = 0\n",
    "    ones = 0\n",
    "    if n//9>0  :\n",
    "       \n",
    "        nines = n//9\n",
    "      \n",
    "            \n",
    "    if (n - 9*nines)//3>0:\n",
    "\n",
    "          threes = (n - nines*9)//3\n",
    "\n",
    "    if n-nines*9-threes*3:\n",
    "            ones = n - 9*nines-threes*3\n",
    "   \n",
    "    print(f'nines:{nines}, threes:{threes}, ones:{ones}')\n",
    "    "
   ]
  },
  {
   "cell_type": "code",
   "execution_count": 58,
   "metadata": {},
   "outputs": [
    {
     "name": "stdout",
     "output_type": "stream",
     "text": [
      "nines:2, threes:1, ones:1\n"
     ]
    }
   ],
   "source": [
    "ones_threes_nines(22)"
   ]
  },
  {
   "cell_type": "code",
   "execution_count": 63,
   "metadata": {},
   "outputs": [],
   "source": [
    "#5a)\n",
    "def fib(x):\n",
    "    a, b = 0,1\n",
    "    count = 0\n",
    "    while(count < x):\n",
    "        \n",
    "        c = a + b\n",
    "        a=b\n",
    "        b = c\n",
    "        count +=1\n",
    "    return a"
   ]
  },
  {
   "cell_type": "code",
   "execution_count": 64,
   "metadata": {},
   "outputs": [
    {
     "data": {
      "text/plain": [
       "8"
      ]
     },
     "execution_count": 64,
     "metadata": {},
     "output_type": "execute_result"
    }
   ],
   "source": [
    "fib(6)"
   ]
  },
  {
   "cell_type": "code",
   "execution_count": null,
   "metadata": {},
   "outputs": [],
   "source": []
  }
 ],
 "metadata": {
  "kernelspec": {
   "display_name": "Python 3",
   "language": "python",
   "name": "python3"
  },
  "language_info": {
   "codemirror_mode": {
    "name": "ipython",
    "version": 3
   },
   "file_extension": ".py",
   "mimetype": "text/x-python",
   "name": "python",
   "nbconvert_exporter": "python",
   "pygments_lexer": "ipython3",
   "version": "3.8.3"
  }
 },
 "nbformat": 4,
 "nbformat_minor": 4
}
